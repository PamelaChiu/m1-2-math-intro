{
 "cells": [
  {
   "cell_type": "markdown",
   "metadata": {},
   "source": [
    "# Warmup: Count to 50\n",
    "\n",
    "Use a RNG to generate rolls of a 12-sided die. \n",
    "Write a function that counts the number of rolls taken until the total of the rolls totals 50 or more.\n",
    "\n",
    "```\n",
    "rollto50() -> 5\n",
    "rollto50() -> 6\n",
    "```"
   ]
  },
  {
   "cell_type": "code",
   "execution_count": 30,
   "metadata": {},
   "outputs": [
    {
     "name": "stdout",
     "output_type": "stream",
     "text": [
      "13\n"
     ]
    }
   ],
   "source": [
    "import numpy as np\n",
    "import random\n",
    "\n",
    "def rollto50(var):\n",
    "    count = 0\n",
    "    sum=0\n",
    "    while sum <= var:\n",
    "        a = random.randint(1, 12)\n",
    "        sum+=a\n",
    "        count+=1\n",
    "    print(count)\n",
    "rollto50(100)"
   ]
  },
  {
   "cell_type": "markdown",
   "metadata": {},
   "source": [
    "# Problem 1: Monte Carlo Sampling\n",
    "\n",
    "Data Scientists are often lazy. Instead of calculating the exact probability of complex events, we simulate samples with a RNG and average the results. This is called **Monte Carlo Sampling** after the casino in Monaco (yes, really).\n",
    "\n",
    "Write a function `monte_carlo_dice(n)` that given a 6-sided die, rolls it $n$ times and averages the result.\n",
    "\n",
    "The result should get closer to the true expected value (3.5) as $n$ increases:\n",
    "\n",
    "```\n",
    "n: 100 Trial average 3.39 \n",
    "n: 1000 Trial average 3.576 \n",
    "n: 10000 Trial average 3.5054 \n",
    "n: 100000 Trial average 3.50201 \n",
    "n: 500000 Trial average 3.495568\n",
    "```"
   ]
  },
  {
   "cell_type": "code",
   "execution_count": 19,
   "metadata": {},
   "outputs": [
    {
     "name": "stdout",
     "output_type": "stream",
     "text": [
      "n: 100 Trial average 3.29\n",
      "n: 1000 Trial average 3.476\n",
      "n: 10000 Trial average 3.4871\n",
      "n: 100000 Trial average 3.50341\n",
      "n: 500000 Trial average 3.498302\n"
     ]
    }
   ],
   "source": [
    "import numpy as np\n",
    "import random\n",
    "\n",
    "def monte_carlo_dice(n):\n",
    "    sum = 0\n",
    "    for i in range(n):\n",
    "        sum+=random.randint(1, 6)\n",
    "    \n",
    "    avg = sum/len(range(n))\n",
    "    return \"n: \"+str(n)+\" Trial average \"+str(avg)\n",
    "\n",
    "\n",
    "\n",
    "\n",
    "print(monte_carlo_dice(100))\n",
    "print(monte_carlo_dice(1000))\n",
    "print(monte_carlo_dice(10000))\n",
    "print(monte_carlo_dice(100000))\n",
    "print(monte_carlo_dice(500000))"
   ]
  },
  {
   "cell_type": "markdown",
   "metadata": {},
   "source": [
    "# 2: Estimating the Area of a Circle\n",
    "\n",
    "Consider a dartboard with a circle of radius $r$ inscribed in a square with side $2r$. Now let’s say you start throwing a large number of darts at it. \n",
    "\n",
    "Some of these will hit the board within the circle—let’s say, $N$—and others out-side it—let’s say, $M$. If we consider the fraction of darts that land inside the circle:\n",
    "\n",
    "$$f = \\dfrac{N}{N + M}$$\n",
    "\n",
    "Then the value of $f * A$ with $A$ being the area of the square will approximate the actual area of the circle (which is  $\\pi 2 r$)\n",
    "\n",
    "<img src=\"Circle Target.png\" style=\"width: 200px;\">\n",
    "\n",
    "Write a function `circle_estimate(radius, trials)` which will estimate the area of a circle by throwing `trials` random darts at the square.\n",
    "\n",
    "\n",
    "\n",
    "```\n",
    "Radius: 2\n",
    "Area: 12.566370614359172, Estimated (1000 darts): 12.576\n",
    "Area: 12.566370614359172, Estimated (100000 darts): 12.58176\n",
    "Area: 12.566370614359172, Estimated (1000000 darts): 12.560128\n",
    "```\n",
    "\n",
    "**Hint:** Generate 2 random numbers for each dart throw, one for the `x` axis and one for the `y` axis. Use the [Pythagorean Theorem](https://en.wikipedia.org/wiki/Pythagorean_theorem) find if it's outside the circle"
   ]
  },
  {
   "cell_type": "code",
   "execution_count": 21,
   "metadata": {},
   "outputs": [
    {
     "data": {
      "text/plain": [
       "12.566370614359172"
      ]
     },
     "execution_count": 21,
     "metadata": {},
     "output_type": "execute_result"
    }
   ],
   "source": [
    "import math\n",
    "\n",
    "def circle_estimate(radius):\n",
    "    area= math.pi*radius**2\n",
    "    return(area)\n",
    "\n",
    "\n",
    "\n",
    "circle_estimate(2)"
   ]
  },
  {
   "cell_type": "code",
   "execution_count": 31,
   "metadata": {},
   "outputs": [
    {
     "data": {
      "text/plain": [
       "12.5312"
      ]
     },
     "execution_count": 31,
     "metadata": {},
     "output_type": "execute_result"
    }
   ],
   "source": [
    "def app_circle(radius,trial):\n",
    "    sum = 0\n",
    "    for i in range(trial):\n",
    "        x = random.uniform(-radius, radius)\n",
    "        y = random.uniform(-radius, radius)   \n",
    "        pytheorem = x**2 + y**2\n",
    "        r =  pytheorem**(1/2)\n",
    "        \n",
    "        if r <= radius:\n",
    "            sum+=1\n",
    "    f = sum/trial\n",
    "\n",
    "    square = (2*radius)**2\n",
    "    return f * square\n",
    "    \n",
    "app_circle(2,10000) \n",
    "    "
   ]
  },
  {
   "cell_type": "markdown",
   "metadata": {},
   "source": [
    "# 3: Binomial distribution\n",
    "\n",
    "The [binomial random variable](https://en.wikipedia.org/wiki/Binomial_distribution) $ Y \\sim Bin(n, p) $ represents the number of successes in $ n $ coin flips, where each trial succeeds with probability $ p $.\n",
    "\n",
    "Without any import besides `from numpy.random import uniform`, write a function\n",
    "`binomial_rv` such that `binomial_rv(n, p)` generates one draw of $ Y $.\n",
    "\n",
    "Hint: If $ U $ is uniform on $ (0, 1) $ and $ p \\in (0,1) $, then the expression `U < p` evaluates to `True` with probability $ p $."
   ]
  },
  {
   "cell_type": "code",
   "execution_count": 89,
   "metadata": {},
   "outputs": [
    {
     "name": "stdout",
     "output_type": "stream",
     "text": [
      "[0, 1, 0, 1, 1, 1, 1, 1, 0, 1]\n",
      "7\n",
      "[0, 0, 1, 1, 0, 0, 0, 1, 1, 0]\n",
      "4\n",
      "[1, 1, 0, 0, 1, 0, 1, 0, 0, 0]\n",
      "4\n",
      "[1, 1, 0, 0, 0, 1, 0, 1, 1, 0]\n",
      "5\n",
      "[1, 1, 0, 0, 0, 1, 0, 0, 1, 1]\n",
      "5\n",
      "[0, 0, 0, 1, 1, 0, 0, 0, 1, 0]\n",
      "3\n",
      "[1, 0, 0, 1, 0, 0, 0, 0, 0, 0]\n",
      "2\n",
      "[0, 0, 1, 0, 1, 0, 0, 1, 1, 0]\n",
      "4\n",
      "[0, 1, 0, 1, 1, 0, 0, 0, 1, 1]\n",
      "5\n",
      "[1, 1, 1, 0, 0, 0, 0, 0, 0, 0]\n",
      "3\n",
      "[0, 1, 1, 1, 1, 1, 1, 0, 0, 0]\n",
      "6\n",
      "[1, 1, 1, 1, 1, 0, 1, 0, 0, 0]\n",
      "6\n",
      "[0, 0, 0, 0, 0, 0, 0, 0, 0, 1]\n",
      "1\n",
      "[0, 0, 0, 0, 0, 0, 1, 1, 1, 1]\n",
      "4\n",
      "[1, 1, 1, 0, 0, 1, 1, 1, 1, 1]\n",
      "8\n",
      "[0, 0, 0, 1, 0, 0, 1, 1, 0, 1]\n",
      "4\n",
      "[1, 1, 0, 1, 0, 0, 1, 1, 0, 1]\n",
      "6\n",
      "[0, 1, 0, 0, 0, 0, 1, 1, 0, 0]\n",
      "3\n",
      "[1, 1, 1, 1, 0, 0, 1, 0, 1, 0]\n",
      "6\n",
      "[1, 0, 0, 1, 1, 1, 1, 0, 0, 1]\n",
      "6\n",
      "[0, 1, 1, 0, 0, 1, 1, 0, 1, 0]\n",
      "5\n",
      "[1, 1, 1, 1, 1, 1, 0, 1, 0, 1]\n",
      "8\n",
      "[0, 1, 1, 0, 1, 1, 0, 1, 0, 1]\n",
      "6\n",
      "[0, 1, 0, 1, 0, 0, 0, 1, 0, 0]\n",
      "3\n",
      "[0, 0, 0, 0, 0, 0, 1, 1, 0, 1]\n",
      "3\n",
      "[0, 0, 1, 1, 0, 0, 1, 0, 0, 1]\n",
      "4\n",
      "[0, 0, 1, 0, 1, 0, 0, 0, 0, 1]\n",
      "3\n",
      "[1, 1, 1, 0, 0, 0, 0, 1, 1, 0]\n",
      "5\n",
      "[0, 0, 1, 1, 1, 1, 1, 1, 1, 0]\n",
      "7\n",
      "[0, 1, 0, 0, 0, 1, 1, 1, 1, 1]\n",
      "6\n",
      "[0, 1, 0, 0, 0, 0, 0, 0, 1, 0]\n",
      "2\n",
      "[1, 0, 1, 1, 0, 1, 0, 0, 0, 1]\n",
      "5\n",
      "[0, 1, 0, 1, 1, 1, 0, 1, 0, 1]\n",
      "6\n",
      "[1, 1, 1, 1, 1, 1, 1, 0, 0, 1]\n",
      "8\n",
      "[1, 0, 0, 1, 1, 1, 0, 0, 0, 0]\n",
      "4\n",
      "[1, 1, 0, 0, 0, 0, 1, 0, 1, 0]\n",
      "4\n",
      "[0, 0, 1, 0, 1, 0, 1, 0, 1, 1]\n",
      "5\n",
      "[1, 1, 1, 1, 1, 0, 1, 0, 1, 0]\n",
      "7\n",
      "[0, 1, 1, 0, 0, 1, 0, 0, 0, 1]\n",
      "4\n",
      "[0, 0, 0, 0, 0, 1, 1, 0, 0, 1]\n",
      "3\n",
      "[0, 1, 1, 1, 0, 0, 0, 0, 1, 1]\n",
      "5\n",
      "[0, 0, 0, 1, 0, 1, 1, 0, 1, 0]\n",
      "4\n",
      "[0, 0, 1, 1, 1, 0, 1, 0, 1, 0]\n",
      "5\n",
      "[1, 1, 1, 1, 0, 1, 0, 0, 1, 0]\n",
      "6\n",
      "[0, 1, 1, 1, 1, 1, 1, 0, 1, 1]\n",
      "8\n",
      "[1, 0, 0, 1, 1, 1, 1, 0, 0, 1]\n",
      "6\n",
      "[1, 1, 1, 0, 1, 1, 1, 1, 1, 0]\n",
      "8\n",
      "[1, 1, 1, 0, 0, 0, 0, 0, 1, 0]\n",
      "4\n",
      "[1, 0, 1, 0, 1, 1, 0, 1, 1, 0]\n",
      "6\n",
      "[0, 1, 1, 1, 0, 0, 0, 0, 1, 0]\n",
      "4\n",
      "[1, 1, 0, 0, 0, 1, 0, 0, 0, 0]\n",
      "3\n",
      "[0, 0, 1, 1, 1, 1, 0, 0, 1, 0]\n",
      "5\n",
      "[0, 1, 1, 1, 1, 0, 0, 0, 0, 0]\n",
      "4\n",
      "[0, 0, 0, 0, 1, 1, 0, 0, 1, 0]\n",
      "3\n",
      "[1, 1, 1, 0, 0, 1, 1, 1, 1, 1]\n",
      "8\n",
      "[1, 0, 1, 0, 0, 0, 0, 1, 0, 1]\n",
      "4\n",
      "[1, 1, 0, 0, 1, 0, 0, 0, 0, 1]\n",
      "4\n",
      "[0, 1, 0, 1, 1, 1, 0, 1, 1, 1]\n",
      "7\n",
      "[1, 1, 1, 0, 0, 0, 1, 1, 1, 0]\n",
      "6\n",
      "[0, 1, 0, 1, 1, 0, 0, 1, 1, 0]\n",
      "5\n",
      "[0, 0, 0, 1, 1, 1, 0, 0, 1, 0]\n",
      "4\n",
      "[0, 1, 1, 0, 1, 1, 1, 0, 1, 0]\n",
      "6\n",
      "[0, 1, 1, 1, 1, 0, 0, 1, 0, 0]\n",
      "5\n",
      "[0, 1, 1, 0, 0, 1, 1, 0, 0, 1]\n",
      "5\n",
      "[0, 1, 0, 1, 0, 1, 0, 0, 1, 0]\n",
      "4\n",
      "[0, 1, 0, 1, 1, 1, 0, 1, 0, 0]\n",
      "5\n",
      "[1, 1, 0, 0, 0, 0, 0, 0, 1, 0]\n",
      "3\n",
      "[0, 1, 1, 0, 1, 0, 1, 1, 1, 0]\n",
      "6\n",
      "[0, 1, 1, 0, 0, 1, 0, 1, 1, 1]\n",
      "6\n",
      "[1, 1, 1, 0, 0, 0, 0, 0, 1, 1]\n",
      "5\n",
      "[0, 0, 0, 1, 1, 0, 0, 0, 0, 0]\n",
      "2\n",
      "[0, 1, 1, 1, 1, 1, 0, 1, 0, 1]\n",
      "7\n",
      "[1, 1, 0, 1, 1, 0, 1, 1, 0, 1]\n",
      "7\n",
      "[0, 1, 0, 0, 0, 0, 0, 0, 1, 1]\n",
      "3\n",
      "[1, 1, 0, 0, 1, 0, 0, 1, 1, 1]\n",
      "6\n",
      "[1, 1, 0, 0, 1, 0, 1, 0, 0, 1]\n",
      "5\n",
      "[0, 1, 0, 1, 1, 1, 1, 1, 1, 0]\n",
      "7\n",
      "[0, 0, 0, 0, 0, 0, 0, 1, 1, 0]\n",
      "2\n",
      "[0, 1, 1, 1, 0, 1, 0, 1, 0, 0]\n",
      "5\n",
      "[0, 0, 1, 0, 1, 0, 1, 1, 0, 1]\n",
      "5\n",
      "[0, 1, 0, 1, 1, 1, 0, 1, 0, 1]\n",
      "6\n",
      "[0, 0, 1, 1, 1, 1, 1, 1, 0, 1]\n",
      "7\n",
      "[1, 1, 1, 0, 0, 1, 0, 1, 1, 0]\n",
      "6\n",
      "[1, 1, 0, 0, 0, 0, 0, 0, 0, 0]\n",
      "2\n",
      "[1, 0, 1, 0, 0, 0, 1, 0, 1, 0]\n",
      "4\n",
      "[1, 1, 0, 0, 0, 0, 0, 1, 0, 1]\n",
      "4\n",
      "[0, 0, 1, 0, 1, 0, 0, 1, 0, 1]\n",
      "4\n",
      "[0, 0, 1, 1, 1, 0, 0, 1, 1, 0]\n",
      "5\n",
      "[1, 1, 0, 1, 0, 1, 1, 0, 1, 0]\n",
      "6\n",
      "[1, 1, 1, 1, 0, 0, 1, 0, 1, 1]\n",
      "7\n",
      "[1, 1, 1, 1, 1, 1, 0, 1, 0, 1]\n",
      "8\n",
      "[0, 0, 1, 1, 0, 1, 0, 1, 0, 0]\n",
      "4\n",
      "[1, 1, 1, 0, 1, 0, 0, 0, 0, 1]\n",
      "5\n",
      "[1, 1, 0, 0, 1, 0, 0, 0, 1, 0]\n",
      "4\n",
      "[0, 0, 0, 0, 1, 0, 1, 0, 0, 0]\n",
      "2\n",
      "[0, 0, 0, 1, 1, 1, 1, 1, 1, 0]\n",
      "6\n",
      "[0, 1, 0, 0, 1, 1, 0, 0, 1, 1]\n",
      "5\n",
      "[0, 0, 0, 0, 1, 0, 0, 0, 1, 1]\n",
      "3\n",
      "[1, 1, 0, 0, 1, 1, 1, 1, 1, 1]\n",
      "8\n",
      "[0, 1, 1, 0, 1, 0, 1, 1, 1, 0]\n",
      "6\n"
     ]
    }
   ],
   "source": [
    "from numpy.random import uniform\n",
    "\n",
    "def binomial_rv(n,p):\n",
    "    count = 0\n",
    "    list1 = []\n",
    "    while len(list1)< n:\n",
    "        list1.append(1 if uniform(0,1) < p else 0)\n",
    "    \n",
    "    for i in range(len(list1)):\n",
    "        if list1[i] == 1:\n",
    "            count+=1\n",
    "    print(list1)\n",
    "    print(count)\n",
    "        \n",
    "\n",
    "for i in range(100): #test\n",
    "    binomial_rv(10,.5)"
   ]
  },
  {
   "cell_type": "code",
   "execution_count": 88,
   "metadata": {},
   "outputs": [
    {
     "name": "stdout",
     "output_type": "stream",
     "text": [
      "Please input the N value：10\n",
      "Please input the n value:10\n",
      "Please input the p value:.2\n",
      "1.0240000000000006e-07\n"
     ]
    }
   ],
   "source": []
  },
  {
   "cell_type": "code",
   "execution_count": 41,
   "metadata": {},
   "outputs": [
    {
     "name": "stdout",
     "output_type": "stream",
     "text": [
      "0.0\n"
     ]
    }
   ],
   "source": []
  },
  {
   "cell_type": "code",
   "execution_count": 52,
   "metadata": {},
   "outputs": [
    {
     "name": "stdout",
     "output_type": "stream",
     "text": [
      "    1    10    45   120   210   252   210   120    45    10     1\n"
     ]
    }
   ],
   "source": []
  },
  {
   "cell_type": "code",
   "execution_count": null,
   "metadata": {},
   "outputs": [],
   "source": []
  }
 ],
 "metadata": {
  "file_extension": ".py",
  "kernelspec": {
   "display_name": "Python 3",
   "language": "python",
   "name": "python3"
  },
  "language_info": {
   "codemirror_mode": {
    "name": "ipython",
    "version": 3
   },
   "file_extension": ".py",
   "mimetype": "text/x-python",
   "name": "python",
   "nbconvert_exporter": "python",
   "pygments_lexer": "ipython3",
   "version": "3.8.3"
  },
  "mimetype": "text/x-python",
  "name": "python",
  "npconvert_exporter": "python",
  "pygments_lexer": "ipython3",
  "version": 3
 },
 "nbformat": 4,
 "nbformat_minor": 2
}
